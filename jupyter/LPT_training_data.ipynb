{
 "cells": [
  {
   "cell_type": "code",
   "execution_count": 1,
   "metadata": {
    "collapsed": true
   },
   "outputs": [],
   "source": [
    "%load_ext autoreload\n",
    "%autoreload 2"
   ]
  },
  {
   "cell_type": "code",
   "execution_count": 2,
   "metadata": {
    "collapsed": true,
    "deletable": true,
    "editable": true
   },
   "outputs": [],
   "source": [
    "import planes"
   ]
  },
  {
   "cell_type": "code",
   "execution_count": 3,
   "metadata": {
    "collapsed": true,
    "deletable": true,
    "editable": true
   },
   "outputs": [],
   "source": [
    "a=planes.plane()"
   ]
  },
  {
   "cell_type": "code",
   "execution_count": 4,
   "metadata": {
    "collapsed": true
   },
   "outputs": [],
   "source": [
    "infi='/home/rp3e11/drive1/thesis_cases/re_60k/tu_8_new/Pr2/cascade.in'"
   ]
  },
  {
   "cell_type": "code",
   "execution_count": 7,
   "metadata": {
    "collapsed": false,
    "deletable": true,
    "editable": true
   },
   "outputs": [
    {
     "name": "stdout",
     "output_type": "stream",
     "text": [
      "Reading file in STAT_cont.bin format\n"
     ]
    }
   ],
   "source": [
    "a.read_data('/home/rp3e11/drive1/thesis_cases/re_60k/tu_8_new/Pr2/convergence_STAT/1748510_to_2348510/STAT_cont.bin',infi)"
   ]
  },
  {
   "cell_type": "code",
   "execution_count": 16,
   "metadata": {
    "collapsed": false,
    "deletable": true,
    "editable": true
   },
   "outputs": [],
   "source": [
    "nb=9\n",
    "ofile=open('/home/rp3e11/drive1/thesis_cases/re_60k/tu_8_new/Pr2/Harshal_LPT.p3d','w')\n",
    "ofile.write('%i \\n'%nb)\n",
    "for j in range(nb):\n",
    "    ofile.write('%i, %i, 1 \\n'%(a.var.nxp[j],a.var.nyp[j]))\n"
   ]
  },
  {
   "cell_type": "code",
   "execution_count": 17,
   "metadata": {
    "collapsed": true,
    "deletable": true,
    "editable": true
   },
   "outputs": [],
   "source": [
    "inds=[1,2,3,4,10,11,12,13]\n",
    "inds_f=[]\n",
    "for j in inds:\n",
    "    inds_f.append(a.var.get_index(101,j))\n",
    "a.extr_plane(inds_f)"
   ]
  },
  {
   "cell_type": "code",
   "execution_count": 18,
   "metadata": {
    "collapsed": false,
    "deletable": true,
    "editable": true
   },
   "outputs": [],
   "source": [
    "for ib in range(nb):\n",
    "    for dim in range(2):\n",
    "        temp=''\n",
    "        for j in range(a.var.nyp[ib]):\n",
    "            for i in range(a.var.nxp[ib]):\n",
    "                temp+='%20.15f,'%a.grid[ib][i,j,dim]\n",
    "        ofile.write(temp.rstrip(',')+'\\n')\n",
    "    temp=''\n",
    "    for j in range(a.var.nyp[ib]):\n",
    "        for i in range(a.var.nxp[ib]):\n",
    "            temp+='%8.5f,'%(0.0)\n",
    "    ofile.write(temp.rstrip(',')+'\\n')    \n",
    "    # u_1 u_2\n",
    "    for k in range(1,3):\n",
    "        temp=''\n",
    "        for j in range(a.var.nyp[ib]):\n",
    "            for i in range(a.var.nxp[ib]):\n",
    "                temp+='%20.15f,'%a.field[ib][i,j,k]\n",
    "        ofile.write(temp.rstrip(',')+'\\n')\n",
    "    # u_3\n",
    "    temp=''    \n",
    "    for j in range(a.var.nyp[ib]):\n",
    "        for i in range(a.var.nxp[ib]):\n",
    "            temp+='%8.5f,'%(0.0)\n",
    "    ofile.write(temp.rstrip(',')+'\\n')      \n",
    "    # tau_11 tau_12\n",
    "    for k in range(4,6):\n",
    "        temp=''\n",
    "        for j in range(a.var.nyp[ib]):\n",
    "            for i in range(a.var.nxp[ib]):\n",
    "                temp+='%20.15f,'%a.field[ib][i,j,k]\n",
    "        ofile.write(temp.rstrip(',')+'\\n')\n",
    "    # tau_13\n",
    "    temp=''\n",
    "    for j in range(a.var.nyp[ib]):\n",
    "        for i in range(a.var.nxp[ib]):\n",
    "            temp+='%8.5f,'%(0.0)\n",
    "    ofile.write(temp.rstrip(',')+'\\n')     \n",
    "    # tau_22\n",
    "    for k in [6]:\n",
    "        temp=''\n",
    "        for j in range(a.var.nyp[ib]):\n",
    "            for i in range(a.var.nxp[ib]):\n",
    "                temp+='%20.15f,'%a.field[ib][i,j,k]\n",
    "        ofile.write(temp.rstrip(',')+'\\n')    \n",
    "    # tau_23\n",
    "    temp=''    \n",
    "    for j in range(a.var.nyp[ib]):\n",
    "        for i in range(a.var.nxp[ib]):\n",
    "            temp+='%8.5f,'%(0.0)\n",
    "    ofile.write(temp.rstrip(',')+'\\n')     \n",
    "    # tau_33\n",
    "    for k in [7]:\n",
    "        temp=''\n",
    "        for j in range(a.var.nyp[ib]):\n",
    "            for i in range(a.var.nxp[ib]):\n",
    "                temp+='%20.15f,'%a.field[ib][i,j,k]\n",
    "        ofile.write(temp.rstrip(',')+'\\n')       \n",
    "    # rho, T\n",
    "    for k in [0,3]:\n",
    "        temp=''\n",
    "        for j in range(a.var.nyp[ib]):\n",
    "            for i in range(a.var.nxp[ib]):\n",
    "                temp+='%20.15f,'%a.field[ib][i,j,k]\n",
    "        ofile.write(temp.rstrip(',')+'\\n')        "
   ]
  },
  {
   "cell_type": "code",
   "execution_count": 19,
   "metadata": {
    "collapsed": true,
    "deletable": true,
    "editable": true
   },
   "outputs": [],
   "source": [
    "ofile.close()"
   ]
  },
  {
   "cell_type": "code",
   "execution_count": 20,
   "metadata": {
    "collapsed": false,
    "deletable": true,
    "editable": true
   },
   "outputs": [
    {
     "name": "stdout",
     "output_type": "stream",
     "text": [
      "[  9.99937952e-01   6.93711936e-01   7.19977379e-01   1.03268385e+00\n",
      "  -1.98805821e-03  -1.18182834e-05  -1.34454342e-02  -1.22022191e-02]\n"
     ]
    }
   ],
   "source": [
    "print a.field[0][1,1,:]"
   ]
  },
  {
   "cell_type": "code",
   "execution_count": null,
   "metadata": {
    "collapsed": true,
    "deletable": true,
    "editable": true
   },
   "outputs": [],
   "source": []
  }
 ],
 "metadata": {
  "kernelspec": {
   "display_name": "Python 2",
   "language": "python",
   "name": "python2"
  },
  "language_info": {
   "codemirror_mode": {
    "name": "ipython",
    "version": 2
   },
   "file_extension": ".py",
   "mimetype": "text/x-python",
   "name": "python",
   "nbconvert_exporter": "python",
   "pygments_lexer": "ipython2",
   "version": "2.7.12+"
  }
 },
 "nbformat": 4,
 "nbformat_minor": 0
}
