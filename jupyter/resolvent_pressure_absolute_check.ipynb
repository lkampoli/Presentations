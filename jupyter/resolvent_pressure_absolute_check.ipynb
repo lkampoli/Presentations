{
 "cells": [
  {
   "cell_type": "code",
   "execution_count": 1,
   "metadata": {},
   "outputs": [],
   "source": [
    "#!/usr/bin/env python2\n",
    "# -*- coding: utf-8 -*-\n",
    "import numpy as np\n",
    "import sys\n",
    "import matplotlib.pyplot as plt \n",
    "from scipy.fftpack import fft, ifft\n",
    "from scipy import signal\n",
    "from scipy.interpolate import interp1d\n",
    "abspath = '/home/shubham1/spartan_mount'\n",
    "# abspath = '/data/cephfs/punim0895'\n",
    "sys.path.append(abspath + '/hwu1/slicedatareadWriteHipstar/jupyter_codes')\n",
    "# from deriv import *\n",
    "# from lib_msh import *\n",
    "import scipy.io as sio\n",
    "path = abspath + '/hwu1/slicedatareadWriteHipstar/cd_airfoil_inputData_allMach/'"
   ]
  },
  {
   "cell_type": "code",
   "execution_count": 2,
   "metadata": {},
   "outputs": [],
   "source": [
    "allmach = [0.2,0.3,0.4,0.5]\n",
    "datall = [None]*len(allmach)\n",
    "xall = [None]*len(allmach)\n",
    "yall = [None]*len(allmach)\n",
    "for k,M in enumerate(allmach):\n",
    "#     DATAF2 = np.load(path+'M0'+str(int(M*10))+'_spod_data/flowdata_b2_M0'+str(int(M*10))+'.npz')\n",
    "    DATAG2 = np.load(path+'M0'+str(int(M*10))+'_spod_data/griddata_b2_M0'+str(int(M*10))+'.npz')\n",
    "#     datall[k] = DATAF2['p1']\n",
    "    xall[k] = DATAG2['x1']\n",
    "    yall[k] = DATAG2['y1']"
   ]
  },
  {
   "cell_type": "code",
   "execution_count": 3,
   "metadata": {},
   "outputs": [],
   "source": [
    "allmach = [0.2,0.3,0.4,0.5]\n",
    "datall1 = [None]*len(allmach)\n",
    "xall1 = [None]*len(allmach)\n",
    "yall1 = [None]*len(allmach)\n",
    "for k,M in enumerate(allmach):\n",
    "#     DATAF3 = np.load(path+'M0'+str(int(M*10))+'_spod_data/flowdata_b3_M0'+str(int(M*10))+'.npz')\n",
    "    DATAG3 = np.load(path+'M0'+str(int(M*10))+'_spod_data/griddata_b3_M0'+str(int(M*10))+'.npz')\n",
    "#     datall1[k] = DATAF3['p2']\n",
    "    xall1[k] = DATAG3['x2']\n",
    "    yall1[k] = DATAG3['y2']"
   ]
  },
  {
   "cell_type": "code",
   "execution_count": 8,
   "metadata": {},
   "outputs": [],
   "source": [
    "%matplotlib notebook\n",
    "import os\n",
    "dtall = [0.003,0.003,0.005,0.005]\n",
    "# block =3\n",
    "savePall = [None]*8\n",
    "count = 0\n",
    "for b, block in enumerate([2,3]):\n",
    "    for k,M in enumerate(allmach):\n",
    "        if block==3:\n",
    "            x = xall1[k]\n",
    "            y = yall1[k]\n",
    "            data = datall1[k]\n",
    "        else:\n",
    "            x = xall[k]\n",
    "            y = yall[k]\n",
    "            data = datall[k]\n",
    "\n",
    "        Nt = data.shape[-1]\n",
    "        dt=dtall[k]\n",
    "\n",
    "        tf = np.fft.fftshift(np.fft.fftfreq(Nt,dt))\n",
    "\n",
    "        Xtemp = tf[:]    # w   \n",
    "\n",
    "        mac = 1.0/M\n",
    "        mhy = 1\n",
    "        FS = np.fft.fft(data,axis=-1)\n",
    "\n",
    "        Z6 = np.fft.fftshift(FS)\n",
    "        \n",
    "        savePall[count] = Z6\n",
    "        count += 1\n"
   ]
  },
  {
   "cell_type": "code",
   "execution_count": 11,
   "metadata": {},
   "outputs": [],
   "source": [
    "np.savez('M02_b2.npz',m2b2 = savePall[0])\n",
    "np.savez('M03_b2.npz',m3b2 = savePall[1])\n",
    "np.savez('M04_b2.npz',m4b2 = savePall[2])\n",
    "np.savez('M05_b2.npz',m5b2 = savePall[3])\n",
    "np.savez('M02_b3.npz',m2b3 = savePall[4])\n",
    "np.savez('M03_b3.npz',m3b3 = savePall[5])\n",
    "np.savez('M04_b3.npz',m4b3 = savePall[6])\n",
    "np.savez('M05_b3.npz',m5b3 = savePall[7])"
   ]
  },
  {
   "cell_type": "code",
   "execution_count": null,
   "metadata": {},
   "outputs": [],
   "source": []
  },
  {
   "cell_type": "code",
   "execution_count": null,
   "metadata": {},
   "outputs": [],
   "source": []
  },
  {
   "cell_type": "code",
   "execution_count": 9,
   "metadata": {},
   "outputs": [],
   "source": [
    "AA = np.load('M04_b2.npz')\n",
    "A42 = AA['m4b2']"
   ]
  },
  {
   "cell_type": "code",
   "execution_count": 15,
   "metadata": {},
   "outputs": [
    {
     "data": {
      "text/plain": [
       "(543, 212, 2999)"
      ]
     },
     "execution_count": 15,
     "metadata": {},
     "output_type": "execute_result"
    }
   ],
   "source": [
    "A42.shape"
   ]
  },
  {
   "cell_type": "code",
   "execution_count": 16,
   "metadata": {},
   "outputs": [
    {
     "name": "stderr",
     "output_type": "stream",
     "text": [
      "/home/shubham1/.local/lib/python2.7/site-packages/numpy/ma/core.py:2788: ComplexWarning: Casting complex values to real discards the imaginary part\n",
      "  order=order, subok=True, ndmin=ndmin)\n"
     ]
    },
    {
     "data": {
      "text/plain": [
       "<matplotlib.contour.QuadContourSet at 0x7f8d2e62b350>"
      ]
     },
     "execution_count": 16,
     "metadata": {},
     "output_type": "execute_result"
    },
    {
     "data": {
      "image/png": "[encoded data removed]",
      "text/plain": [
       "<Figure size 432x288 with 1 Axes>"
      ]
     },
     "metadata": {
      "needs_background": "light"
     },
     "output_type": "display_data"
    }
   ],
   "source": [
    "fig = plt.figure()\n",
    "plt.contourf(xall[2], yall[2], A42[:,:,20],)\n"
   ]
  },
  {
   "cell_type": "code",
   "execution_count": 4,
   "metadata": {},
   "outputs": [
    {
     "data": {
      "text/plain": [
       "(543, 212)"
      ]
     },
     "execution_count": 4,
     "metadata": {},
     "output_type": "execute_result"
    }
   ],
   "source": [
    "xall[2].shape"
   ]
  },
  {
   "cell_type": "code",
   "execution_count": 10,
   "metadata": {},
   "outputs": [],
   "source": [
    "tf = np.fft.fftshift(np.fft.fftfreq(3000,0.005))\n"
   ]
  },
  {
   "cell_type": "code",
   "execution_count": 14,
   "metadata": {},
   "outputs": [
    {
     "data": {
      "text/plain": [
       "0.06666666666667709"
      ]
     },
     "execution_count": 14,
     "metadata": {},
     "output_type": "execute_result"
    }
   ],
   "source": [
    "tf[2]-tf[1]"
   ]
  },
  {
   "cell_type": "code",
   "execution_count": null,
   "metadata": {},
   "outputs": [],
   "source": []
  }
 ],
 "metadata": {
  "kernelspec": {
   "display_name": "Python 2",
   "language": "python",
   "name": "python2"
  },
  "language_info": {
   "codemirror_mode": {
    "name": "ipython",
    "version": 2
   },
   "file_extension": ".py",
   "mimetype": "text/x-python",
   "name": "python",
   "nbconvert_exporter": "python",
   "pygments_lexer": "ipython2",
   "version": "2.7.15"
  }
 },
 "nbformat": 4,
 "nbformat_minor": 2
}
