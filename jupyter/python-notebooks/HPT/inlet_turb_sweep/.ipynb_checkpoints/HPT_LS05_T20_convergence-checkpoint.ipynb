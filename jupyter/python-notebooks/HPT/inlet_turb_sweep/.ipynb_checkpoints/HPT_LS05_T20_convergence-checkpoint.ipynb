{
 "cells": [
  {
   "cell_type": "code",
   "execution_count": 1,
   "metadata": {
    "collapsed": false
   },
   "outputs": [],
   "source": [
    "%load_ext autoreload\n",
    "%autoreload 2"
   ]
  },
  {
   "cell_type": "code",
   "execution_count": 2,
   "metadata": {
    "collapsed": true
   },
   "outputs": [],
   "source": [
    "%matplotlib notebook"
   ]
  },
  {
   "cell_type": "code",
   "execution_count": 3,
   "metadata": {
    "collapsed": true
   },
   "outputs": [],
   "source": [
    "#Set up environemnt\n",
    "import sys\n",
    "#Append PLATUS libraries if these are not set in your PYTHONPATH \n",
    "#sys.path.append('/home/jl12e12/PLATUS/')\n",
    "#sys.path.append('/home/jl12e12/PLATUS/fortran/lib/')\n",
    "import lib_hipstar as lh\n",
    "import tools\n",
    "import lines as l\n",
    "import numpy as np\n",
    "import matplotlib.pyplot as plt\n",
    "from matplotlib2tikz import save as tikz_save\n",
    "tikz=True\n",
    "pdf=True\n",
    "import os"
   ]
  },
  {
   "cell_type": "code",
   "execution_count": 4,
   "metadata": {
    "collapsed": true
   },
   "outputs": [],
   "source": [
    "inlet_x=-0.5\n",
    "outlet_x=1.1"
   ]
  },
  {
   "cell_type": "markdown",
   "metadata": {},
   "source": [
    "# Load data"
   ]
  },
  {
   "cell_type": "code",
   "execution_count": 5,
   "metadata": {
    "collapsed": false
   },
   "outputs": [
    {
     "name": "stdout",
     "output_type": "stream",
     "text": [
      "/media/drive2/HPT/inlet_turb_study/HPT_LS05_DOM30_TI20/convergence\n"
     ]
    }
   ],
   "source": [
    "cd ~/drive2/HPT/inlet_turb_study/HPT_LS05_DOM30_TI20/convergence/"
   ]
  },
  {
   "cell_type": "code",
   "execution_count": 6,
   "metadata": {
    "collapsed": false
   },
   "outputs": [],
   "source": [
    "cases=[]\n",
    "labels=[]\n",
    "convergencedir='./'\n",
    "# now find all the stat-files and set the labels\n",
    "root, dirs, files=next(os.walk(convergencedir))\n",
    "for d in dirs:\n",
    "#                self.filelist.append(os.getcwd()+'/'+convergencedir+'/'+d+'/STAT_cont.bin')\n",
    "    cases.append(convergencedir+'/'+d+'/')\n",
    "    labels.append(str(float(d.split('_')[0])/1.0e5)+'e5 '+d.split('_')[1]+' '+str(float(d.split('_')[2])/1.0e5)+'e5')\n",
    "n_c=len(cases)"
   ]
  },
  {
   "cell_type": "code",
   "execution_count": 7,
   "metadata": {
    "collapsed": false
   },
   "outputs": [
    {
     "ename": "IOError",
     "evalue": "[Errno 2] No such file or directory: './//STAT_cont.bin'",
     "output_type": "error",
     "traceback": [
      "\u001b[0;31m---------------------------------------------------------------------------\u001b[0m",
      "\u001b[0;31mIOError\u001b[0m                                   Traceback (most recent call last)",
      "\u001b[0;32m<ipython-input-7-e35f5f002766>\u001b[0m in \u001b[0;36m<module>\u001b[0;34m()\u001b[0m\n\u001b[1;32m      3\u001b[0m     \u001b[0mfilen\u001b[0m\u001b[0;34m=\u001b[0m\u001b[0mcases\u001b[0m\u001b[0;34m[\u001b[0m\u001b[0mi\u001b[0m\u001b[0;34m]\u001b[0m\u001b[0;34m+\u001b[0m\u001b[0;34m'/STAT_cont.bin'\u001b[0m\u001b[0;34m\u001b[0m\u001b[0m\n\u001b[1;32m      4\u001b[0m     cascades.append(l.cascade_mean(inlet_x,outlet_x,filename=filen,infile='../cascade3d.in',Refplane='Outlet',chord=1.74\n\u001b[0;32m----> 5\u001b[0;31m                                   ,HeatTransfer=True,label=labels[i].replace('_',' ')))\n\u001b[0m",
      "\u001b[0;32m/home/rp3e11/codes/PLATUS_GIT/platus/lines.pyc\u001b[0m in \u001b[0;36m__init__\u001b[0;34m(self, inlet_x, outlet_x, force_read, mix_out, filename, plot_setup, infile, RiemannBC, Rotating_Frame, blade_index, chord, HeatTransfer, reorder_out, save, Refplane, outlet_x2, label, pt_ref, p_ref)\u001b[0m\n\u001b[1;32m   2575\u001b[0m                        \u001b[0mforce_read\u001b[0m\u001b[0;34m=\u001b[0m\u001b[0mforce_read\u001b[0m\u001b[0;34m,\u001b[0m\u001b[0mlabel\u001b[0m\u001b[0;34m=\u001b[0m\u001b[0;34m'inlet'\u001b[0m\u001b[0;34m\u001b[0m\u001b[0m\n\u001b[1;32m   2576\u001b[0m                        \u001b[0;34m,\u001b[0m\u001b[0minfile\u001b[0m\u001b[0;34m=\u001b[0m\u001b[0minfile\u001b[0m\u001b[0;34m,\u001b[0m\u001b[0mRiemannBC\u001b[0m\u001b[0;34m=\u001b[0m\u001b[0mRiemannBC\u001b[0m\u001b[0;34m,\u001b[0m\u001b[0mRotating_Frame\u001b[0m\u001b[0;34m=\u001b[0m\u001b[0mRotating_Frame\u001b[0m\u001b[0;34m\u001b[0m\u001b[0m\n\u001b[0;32m-> 2577\u001b[0;31m                        ,save=save)\n\u001b[0m\u001b[1;32m   2578\u001b[0m \u001b[0;34m\u001b[0m\u001b[0m\n\u001b[1;32m   2579\u001b[0m         \u001b[0mself\u001b[0m\u001b[0;34m.\u001b[0m\u001b[0mheader\u001b[0m\u001b[0;34m=\u001b[0m\u001b[0mself\u001b[0m\u001b[0;34m.\u001b[0m\u001b[0minlet\u001b[0m\u001b[0;34m.\u001b[0m\u001b[0mvar\u001b[0m\u001b[0;34m\u001b[0m\u001b[0m\n",
      "\u001b[0;32m/home/rp3e11/codes/PLATUS_GIT/platus/lines.pyc\u001b[0m in \u001b[0;36mextr_line\u001b[0;34m(self, point1, point2, np_int, filename, write_file_flag, points_file, write_file, force_read, label, plt_style, shape, save, periodic_y, gen, RiemannBC, infile, Rotating_Frame, interpolation_opt, verbose)\u001b[0m\n\u001b[1;32m    154\u001b[0m             \u001b[0mpackformat_flo\u001b[0m \u001b[0;34m=\u001b[0m \u001b[0;34m'>f'\u001b[0m\u001b[0;34m\u001b[0m\u001b[0m\n\u001b[1;32m    155\u001b[0m \u001b[0;34m\u001b[0m\u001b[0m\n\u001b[0;32m--> 156\u001b[0;31m         \u001b[0mself\u001b[0m\u001b[0;34m.\u001b[0m\u001b[0mvar\u001b[0m\u001b[0;34m=\u001b[0m\u001b[0mlh\u001b[0m\u001b[0;34m.\u001b[0m\u001b[0mSTAT_header\u001b[0m\u001b[0;34m(\u001b[0m\u001b[0mfilename\u001b[0m\u001b[0;34m)\u001b[0m\u001b[0;34m\u001b[0m\u001b[0m\n\u001b[0m\u001b[1;32m    157\u001b[0m         \u001b[0mself\u001b[0m\u001b[0;34m.\u001b[0m\u001b[0mlabel\u001b[0m\u001b[0;34m=\u001b[0m\u001b[0mlabel\u001b[0m\u001b[0;34m\u001b[0m\u001b[0m\n\u001b[1;32m    158\u001b[0m         \u001b[0mself\u001b[0m\u001b[0;34m.\u001b[0m\u001b[0mstyle\u001b[0m\u001b[0;34m=\u001b[0m\u001b[0mplt_style\u001b[0m\u001b[0;34m\u001b[0m\u001b[0m\n",
      "\u001b[0;32m/home/rp3e11/codes/PLATUS_GIT/platus/lib_hipstar.pyc\u001b[0m in \u001b[0;36m__init__\u001b[0;34m(self, filename, endian, verbose, grid_bound, adjoint)\u001b[0m\n\u001b[1;32m    574\u001b[0m             \u001b[0munpackformat_flo\u001b[0m \u001b[0;34m=\u001b[0m \u001b[0;34m'>f'\u001b[0m\u001b[0;34m\u001b[0m\u001b[0m\n\u001b[1;32m    575\u001b[0m         \u001b[0;31m#read header and extract required information\u001b[0m\u001b[0;34m\u001b[0m\u001b[0;34m\u001b[0m\u001b[0m\n\u001b[0;32m--> 576\u001b[0;31m         \u001b[0mf\u001b[0m \u001b[0;34m=\u001b[0m \u001b[0mopen\u001b[0m\u001b[0;34m(\u001b[0m\u001b[0mfilename\u001b[0m\u001b[0;34m,\u001b[0m \u001b[0;34m'r+'\u001b[0m\u001b[0;34m)\u001b[0m\u001b[0;34m\u001b[0m\u001b[0m\n\u001b[0m\u001b[1;32m    577\u001b[0m         \u001b[0mtemp\u001b[0m\u001b[0;34m=\u001b[0m\u001b[0mstruct\u001b[0m\u001b[0;34m.\u001b[0m\u001b[0munpack\u001b[0m\u001b[0;34m(\u001b[0m\u001b[0munpackformat_int\u001b[0m\u001b[0;34m,\u001b[0m\u001b[0mf\u001b[0m\u001b[0;34m.\u001b[0m\u001b[0mread\u001b[0m\u001b[0;34m(\u001b[0m\u001b[0;36m4\u001b[0m\u001b[0;34m)\u001b[0m\u001b[0;34m)\u001b[0m\u001b[0;34m[\u001b[0m\u001b[0;36m0\u001b[0m\u001b[0;34m]\u001b[0m\u001b[0;34m\u001b[0m\u001b[0m\n\u001b[1;32m    578\u001b[0m         \u001b[0;32mif\u001b[0m \u001b[0mtemp\u001b[0m\u001b[0;34m==\u001b[0m\u001b[0;36m0\u001b[0m\u001b[0;34m:\u001b[0m\u001b[0;34m\u001b[0m\u001b[0m\n",
      "\u001b[0;31mIOError\u001b[0m: [Errno 2] No such file or directory: './//STAT_cont.bin'"
     ]
    }
   ],
   "source": [
    "cascades=[]\n",
    "for i in range(n_c):\n",
    "    filen=cases[i]+'/STAT_cont.bin'\n",
    "    cascades.append(l.cascade_mean(inlet_x,outlet_x,filename=filen,infile='../cascade3d.in',Refplane='Outlet',chord=1.74\n",
    "                                  ,HeatTransfer=True,label=labels[i].replace('_',' ')))"
   ]
  },
  {
   "cell_type": "markdown",
   "metadata": {},
   "source": [
    "# Plot cascae quantities\n",
    "\n",
    "## Inlet profiles"
   ]
  },
  {
   "cell_type": "code",
   "execution_count": null,
   "metadata": {
    "collapsed": false
   },
   "outputs": [],
   "source": [
    "ids=[]\n",
    "ids.append(cascades[0].header.get_index(101,2))\n",
    "ids.append(cascades[0].header.get_index(101,3))\n",
    "ids.append(cascades[0].header.get_index(101,10))\n",
    "ids.append(cascades[0].header.get_index(101,5))\n",
    "for i,val in enumerate(ids):\n",
    "    plt.figure()\n",
    "    for j in range(n_c):\n",
    "        plt.plot(cascades[j].inlet.data[:,val],cascades[j].inlet.data[:,1],label=cascades[j].label)\n",
    "    plt.legend()\n",
    "    plt.xlabel(cascades[j].header.vars[val])"
   ]
  },
  {
   "cell_type": "code",
   "execution_count": null,
   "metadata": {
    "collapsed": false
   },
   "outputs": [],
   "source": [
    "inlet_stream=l.lines(convergence=True,convergencedir='./')"
   ]
  },
  {
   "cell_type": "code",
   "execution_count": null,
   "metadata": {
    "collapsed": false
   },
   "outputs": [],
   "source": [
    "inlet_stream.extr_line([-1.0,0.0],[-0.2,0.0],300)"
   ]
  },
  {
   "cell_type": "code",
   "execution_count": null,
   "metadata": {
    "collapsed": false
   },
   "outputs": [],
   "source": [
    "pl_var=[]\n",
    "pl_var.append(inlet_stream.l[0].var.get_index(101,10))\n",
    "pl_var.append(inlet_stream.l[0].var.get_index(101,2))\n",
    "inlet_stream.plot_var([0],pl_var)"
   ]
  },
  {
   "cell_type": "markdown",
   "metadata": {
    "collapsed": true
   },
   "source": [
    "# Blade Profiles"
   ]
  },
  {
   "cell_type": "code",
   "execution_count": null,
   "metadata": {
    "collapsed": false
   },
   "outputs": [],
   "source": [
    "plt.figure()\n",
    "for i in range(n_c):\n",
    "    plt.plot(cascades[i].blade.data[:,0],cascades[i].cp,label=cascades[i].label)\n",
    "plt.grid()\n",
    "plt.legend()\n",
    "plt.xlabel('$C_{ax}$')\n",
    "plt.ylabel('$c_p$')"
   ]
  },
  {
   "cell_type": "code",
   "execution_count": null,
   "metadata": {
    "collapsed": false
   },
   "outputs": [],
   "source": [
    "plt.figure()\n",
    "for i in range(n_c):\n",
    "    plt.plot(cascades[i].blade.dist[:],cascades[i].qnorm2,label=cascades[i].label)\n",
    "plt.grid()\n",
    "plt.legend()\n",
    "plt.xlabel('$s$')\n",
    "plt.ylabel('$q_{n}$')"
   ]
  },
  {
   "cell_type": "markdown",
   "metadata": {},
   "source": [
    "## Outlet region"
   ]
  },
  {
   "cell_type": "code",
   "execution_count": null,
   "metadata": {
    "collapsed": false
   },
   "outputs": [],
   "source": [
    "plt.figure()\n",
    "for i in range(n_c):\n",
    "    plt.plot(cascades[i].loss_mix[:],cascades[i].outlet.data[:,1],label=cascades[i].label)\n",
    "plt.grid()\n",
    "plt.legend(loc=0)\n",
    "plt.xlabel('$\\omega$')\n",
    "plt.ylabel('$y$')"
   ]
  },
  {
   "cell_type": "code",
   "execution_count": null,
   "metadata": {
    "collapsed": true
   },
   "outputs": [],
   "source": []
  }
 ],
 "metadata": {
  "kernelspec": {
   "display_name": "Python 2",
   "language": "python",
   "name": "python2"
  },
  "language_info": {
   "codemirror_mode": {
    "name": "ipython",
    "version": 2
   },
   "file_extension": ".py",
   "mimetype": "text/x-python",
   "name": "python",
   "nbconvert_exporter": "python",
   "pygments_lexer": "ipython2",
   "version": "2.7.12"
  }
 },
 "nbformat": 4,
 "nbformat_minor": 0
}
