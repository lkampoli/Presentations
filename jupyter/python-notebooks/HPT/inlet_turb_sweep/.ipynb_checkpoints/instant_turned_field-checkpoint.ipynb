{
 "cells": [
  {
   "cell_type": "code",
   "execution_count": 1,
   "metadata": {
    "collapsed": true
   },
   "outputs": [],
   "source": [
    "%load_ext autoreload\n",
    "%autoreload 2"
   ]
  },
  {
   "cell_type": "code",
   "execution_count": 2,
   "metadata": {
    "collapsed": true
   },
   "outputs": [],
   "source": [
    "%matplotlib notebook"
   ]
  },
  {
   "cell_type": "code",
   "execution_count": 3,
   "metadata": {
    "collapsed": true
   },
   "outputs": [],
   "source": [
    "#Set up environemnt\n",
    "import sys\n",
    "#Append PLATUS libraries if these are not set in your PYTHONPATH \n",
    "#sys.path.append('/home/jl12e12/PLATUS/')\n",
    "#sys.path.append('/home/jl12e12/PLATUS/fortran/lib/')\n",
    "import lib_hipstar as lh\n",
    "import tools\n",
    "import lines as l\n",
    "import numpy as np\n",
    "import matplotlib.pyplot as plt\n",
    "from matplotlib2tikz import save as tikz_save\n",
    "tikz=True\n",
    "pdf=True\n",
    "import os\n",
    "\n",
    "import matplotlib\n",
    "from mpl_toolkits.axes_grid1 import make_axes_locatable\n",
    "import gc\n",
    "\n",
    "from mpl_toolkits.mplot3d import axes3d"
   ]
  },
  {
   "cell_type": "code",
   "execution_count": 4,
   "metadata": {
    "collapsed": true
   },
   "outputs": [],
   "source": [
    "import lib_subspaces as lsub"
   ]
  },
  {
   "cell_type": "code",
   "execution_count": 5,
   "metadata": {},
   "outputs": [
    {
     "name": "stdout",
     "output_type": "stream",
     "text": [
      "/mnt/drive2/re_500k/HPT_LS20_DOM80_TI20/Subspaces\n"
     ]
    }
   ],
   "source": [
    "cd ~/HPT_500k/HPT_LS05_DOM30_TI5/Subspaces/"
   ]
  },
  {
   "cell_type": "code",
   "execution_count": null,
   "metadata": {},
   "outputs": [
    {
     "name": "stdout",
     "output_type": "stream",
     "text": [
      "The dataset requires 24613.861084 Mb of RAM\n"
     ]
    }
   ],
   "source": [
    "%%time\n",
    "blocks=[1,3]\n",
    "n_bl=len(blocks)\n",
    "start_TS=5400601\n",
    "stop_TS= 5500101\n",
    "inc_TS=500\n",
    "steps=range(start_TS,stop_TS,inc_TS)\n",
    "turned_1=lsub.subspace('TURNED',21,start_TS,blocks,source_folder='./')\n",
    "turned_1.load_grid()\n",
    "turned_1.load_data(steps,read_all=True)"
   ]
  },
  {
   "cell_type": "code",
   "execution_count": null,
   "metadata": {
    "collapsed": true
   },
   "outputs": [],
   "source": [
    "tau_w=lsub.subspace('WALL_SH_HEAT',20,start_TS,blocks,source_folder='./')\n",
    "tau_w.load_grid()\n",
    "tau_w.load_data(steps,read_all=True)"
   ]
  },
  {
   "cell_type": "code",
   "execution_count": null,
   "metadata": {
    "collapsed": true
   },
   "outputs": [],
   "source": [
    "plt.figure()\n",
    "for ib in range(n_bl):\n",
    "    plt.plot(turned_1.grid[ib][0,0,:,0],turned_1.grid[ib][1,0,:,0],'x')"
   ]
  },
  {
   "cell_type": "markdown",
   "metadata": {},
   "source": [
    "# Get mean Flow Field"
   ]
  },
  {
   "cell_type": "code",
   "execution_count": null,
   "metadata": {
    "collapsed": true
   },
   "outputs": [],
   "source": [
    "turned_mean=[]\n",
    "for ib in range(n_bl):\n",
    "    nx,ny,nz=turned_1.header[0][ib]\n",
    "    turned_mean.append(np.empty([nx,ny,2]))\n",
    "    for i,j in enumerate([[2,4],[3,5]]):\n",
    "        turned_mean[ib][:,:,i]=turned_1.data[ib][j[0],0,:,:,0]-turned_1.data[ib][j[1],0,:,:,0]"
   ]
  },
  {
   "cell_type": "code",
   "execution_count": null,
   "metadata": {
    "collapsed": true,
    "scrolled": true
   },
   "outputs": [],
   "source": [
    "plt.figure()\n",
    "plt.axes(aspect=1.)\n",
    "for ib in range(n_bl):\n",
    "    plt.plot(tau_w.grid[ib][0,0,:,0],tau_w.grid[ib][1,0,:,0],'k')\n",
    "    plt.contourf(turned_1.grid[ib][0,:,:,0],turned_1.grid[ib][1,:,:,0],turned_mean[ib][:,:,0],levels=np.linspace(-3,7.,11))"
   ]
  },
  {
   "cell_type": "code",
   "execution_count": null,
   "metadata": {
    "collapsed": true
   },
   "outputs": [],
   "source": [
    "plt.figure()\n",
    "dist=[]\n",
    "dist_red=[]\n",
    "for ib in range(n_bl):\n",
    "    nx,ny,nz=tau_w.header[0][ib]\n",
    "    dist.append(np.empty(ny))\n",
    "    dist_red.append(np.empty(ny/16))\n",
    "    if ib==0:\n",
    "        dist[ib][0]=0.\n",
    "    else:\n",
    "        dist[ib][0]=dist[ib-1][-1]\n",
    "    for j in range(1,ny):\n",
    "        dist[ib][j]=dist[ib][j-1]+np.sqrt((tau_w.grid[ib][0,0,j,0]-tau_w.grid[ib][0,0,j-1,0])**2\n",
    "                                         +(tau_w.grid[ib][1,0,j,0]-tau_w.grid[ib][1,0,j-1,0])**2)\n",
    "    if ib==0:\n",
    "        temp1=100.\n",
    "        for j in range(ny):\n",
    "            if tau_w.grid[ib][0,0,j,0]<temp1:\n",
    "                i_min=j\n",
    "                temp1=tau_w.grid[ib][0,0,j,0]\n",
    "        temp1=dist[ib][i_min]\n",
    "        dist[ib][:]-=temp1\n",
    "    dist_red[ib][:]=dist[ib][0:-1:16]\n",
    "    plt.plot(tau_w.grid[ib][0,0,:,0],dist[ib])\n",
    "print 'Leading edge index %i'%i_min    "
   ]
  },
  {
   "cell_type": "code",
   "execution_count": null,
   "metadata": {
    "collapsed": true
   },
   "outputs": [],
   "source": [
    "# fig=plt.figure()\n",
    "# ax = fig.add_subplot(1, 1, 1, projection='3d')\n",
    "# ax.set_aspect(1.)\n",
    "# ax.view_init(azim=-45, elev=30)\n",
    "# for ib in range(n_bl):\n",
    "#     nx,ny,nz=tau_w.header[0][ib]      \n",
    "#     ax.plot_surface(tau_w.grid[ib][0,0,:,:],tau_w.grid[ib][2,0,:,:],tau_w.grid[ib][1,0,:,:],color='b'\n",
    "#                 ,rstride=10, cstride=10, alpha=0.3)   \n",
    "#     ax.set_xlim([-0.1,1.1])\n",
    "#     ax.set_ylim([-1.1,0.5])    \n",
    "#     nx,ny,nz=turned_1.header[0][ib]  \n",
    "#     for j in range(0,ny):\n",
    "#         ax.plot_surface(turned_1.grid[ib][0,:,j,:],turned_1.grid[ib][2,:,j,:],turned_1.grid[ib][1,:,j,:],color='k'\n",
    "#                 ,rstride=10, cstride=10, alpha=0.3)\n",
    "#         ax.plot_surface(turned_1.grid[ib][0,:,j,:],turned_1.grid[ib][2,:,j,:],turned_1.grid[ib][1,:,j,:],color='k'\n",
    "#                 ,rstride=10, cstride=10, alpha=0.3)\n",
    "#     extents = np.array([getattr(ax, 'get_{}lim'.format(dim))() for dim in 'xyz'])\n",
    "#     sz = extents[:,1] - extents[:,0]\n",
    "#     centers = np.mean(extents, axis=1)\n",
    "#     maxsize = max(abs(sz))\n",
    "#     r = maxsize/2\n",
    "#     for ctr, dim in zip(centers, 'xyz'):\n",
    "#         getattr(ax, 'set_{}lim'.format(dim))(ctr - r, ctr + r)\n",
    "#     plt.savefig('planes_considered.pdf')"
   ]
  },
  {
   "cell_type": "code",
   "execution_count": null,
   "metadata": {
    "collapsed": true,
    "scrolled": false
   },
   "outputs": [],
   "source": [
    "j=8\n",
    "ib=0\n",
    "bl_ind=[]\n",
    "u_t_max=[]\n",
    "for ib in range(n_bl):\n",
    "    nx,ny,nz=turned_1.header[0][ib]\n",
    "    temp=[]\n",
    "    temp_u=[]\n",
    "    plt.figure()\n",
    "    for j in range(ny):\n",
    "        temp1=np.argmax(np.abs(turned_mean[ib][:,j,0]))\n",
    "        for i in range(nx):\n",
    "            if abs(turned_mean[ib][nx-i-1,j,0])>0.99*abs(turned_mean[ib][temp1,j,0]):\n",
    "                temp.append(nx-i-1)\n",
    "                temp_u.append(turned_mean[ib][nx-i-1,j,0])\n",
    "                break\n",
    "        plt.plot(turned_mean[ib][:,j,0],turned_1.data[ib][1,0,:,j,0])\n",
    "        plt.plot(turned_mean[ib][temp[-1],j,0],turned_1.data[ib][1,0,temp[-1],j,0],'x')   \n",
    "    bl_ind.append(temp)\n",
    "    u_t_max.append(temp_u)"
   ]
  },
  {
   "cell_type": "code",
   "execution_count": null,
   "metadata": {
    "collapsed": true
   },
   "outputs": [],
   "source": [
    "plt.figure()\n",
    "plt.axes(aspect=1.)\n",
    "for ib in range(n_bl):\n",
    "    nx,ny,nz=turned_1.header[0][ib]\n",
    "    plt.plot(tau_w.grid[ib][0,0,:,0],tau_w.grid[ib][1,0,:,0],'k')\n",
    "    for j in range(ny):\n",
    "        plt.plot(turned_1.grid[ib][0,bl_ind[ib][j]:,j,0],turned_1.grid[ib][1,bl_ind[ib][j]:,j,0])        "
   ]
  },
  {
   "cell_type": "code",
   "execution_count": null,
   "metadata": {
    "collapsed": true
   },
   "outputs": [],
   "source": []
  },
  {
   "cell_type": "code",
   "execution_count": null,
   "metadata": {
    "collapsed": true,
    "scrolled": true
   },
   "outputs": [],
   "source": [
    "for nit in range(0):\n",
    "    for ib in range(1):\n",
    "        nx,ny,nz=turned_1.header[0][ib]    \n",
    "        for j_val in range(ny):\n",
    "            plt.figure()\n",
    "    #         plt.axes(aspect=1.)\n",
    "    #         plt.plot(turned_1.grid[ib][0,0,:,0],turned_1.grid[ib][1,0,:,0])\n",
    "    #         plt.plot(turned_1.grid[ib][0,0,j_val,0],turned_1.grid[ib][1,0,j_val,0],'x')\n",
    "            i_temp=bl_ind[ib][j_val]\n",
    "            ylim_t=turned_1.data[ib][1,0,i_temp,j_val,0]*3.\n",
    "            fig=plt.figure(figsize=(10,6))  \n",
    "            ax1 = plt.subplot2grid((3,10), (0,0),colspan=10)\n",
    "            if u_t_max[ib][j_val]<0:\n",
    "                one_temp=-1.\n",
    "            else:\n",
    "                one_temp=1.            \n",
    "            cb1=ax1.contourf(turned_1.grid[ib][2,:,j_val,:],turned_1.data[ib][1,0,:,j_val,:]\n",
    "                             ,one_temp*turned_1.data[ib][2,nit,:,j_val,:]\n",
    "                             ,levels=np.linspace(0,abs(u_t_max[ib][j_val]*1.2),num=21))\n",
    "            plt.colorbar(cb1,label='$u_t$')\n",
    "            plt.title('s=%7.4f,nit=%i'%(dist_red[ib][j_val],nit))\n",
    "    #        ax1.contour(turned_1.grid[ib][2,:,j_val,:],turned_1.data[ib][1,0,:,j_val,:],turned_1.data[ib][2,0,:,j_val,:]\n",
    "    #                     ,levels=[u_t_max[ib][j_val]],color='k')\n",
    "            ax1.contour(turned_1.grid[ib][2,:,j_val,:],turned_1.data[ib][1,0,:,j_val,:],turned_1.data[ib][2,nit,:,j_val,:]\n",
    "                         ,levels=[u_t_max[ib][j_val]*0.9/0.99],colors=['k'])\n",
    "            ax1.contour(turned_1.grid[ib][2,:,j_val,:],turned_1.data[ib][1,0,:,j_val,:],turned_1.data[ib][11,nit,:,j_val,:]\n",
    "                         ,levels=[100],colors=['r'])    \n",
    "            ax1.set_ylim([0.,ylim_t])\n",
    "            ax2 = plt.subplot2grid((3,10), (1,0),colspan=10)\n",
    "            ten_percent_u_t=abs(u_t_max[ib][j_val]*0.2/0.99)\n",
    "            cb2=ax2.contourf(turned_1.grid[ib][2,:,j_val,:],turned_1.data[ib][1,0,:,j_val,:],turned_1.data[ib][4,nit,:,j_val,:]\n",
    "                         ,levels=np.linspace(-ten_percent_u_t,ten_percent_u_t,num=31),extend='both')\n",
    "            ax2.set_ylim([0.,ylim_t])\n",
    "            plt.colorbar(cb2,label=\"$u_t^{'}$\")\n",
    "            ax2.contour(turned_1.grid[ib][2,:,j_val,:],turned_1.data[ib][1,0,:,j_val,:],turned_1.data[ib][2,nit,:,j_val,:]\n",
    "                         ,levels=[u_t_max[ib][j_val]*0.9/0.99],colors=['k'])        \n",
    "            ax2.contour(turned_1.grid[ib][2,:,j_val,:],turned_1.data[ib][1,0,:,j_val,:],turned_1.data[ib][11,nit,:,j_val,:]\n",
    "                         ,levels=[200],colors=['r'])  \n",
    "            ax2.quiver(turned_1.grid[ib][2,::2,j_val,::4],turned_1.data[ib][1,0,::2,j_val,::4]\n",
    "                       ,turned_1.data[ib][11,nit,::2,j_val,::4],turned_1.data[ib][3,nit,::2,j_val,::4]\n",
    "                         ,scale=100000)          \n",
    "            ax3 = plt.subplot2grid((3,10), (2,0),colspan=10)\n",
    "            #ax3.set_aspect(1.)\n",
    "            cb3=ax3.contourf(turned_1.grid[ib][2,:,j_val,:],turned_1.data[ib][1,0,:,j_val,:],turned_1.data[ib][10,nit,:,j_val,:]\n",
    "                         ,levels=np.linspace(-ten_percent_u_t,ten_percent_u_t,num=31),extend='both')\n",
    "            plt.colorbar(cb3,label=r\"$w$\")\n",
    "            ax3.contour(turned_1.grid[ib][2,:,j_val,:],turned_1.data[ib][1,0,:,j_val,:],turned_1.data[ib][11,nit,:,j_val,:]\n",
    "                         ,levels=[100],colors=['r'])      \n",
    "            ax3.set_ylim([0.,ylim_t])   \n",
    "            ax3.contour(turned_1.grid[ib][2,:,j_val,:],turned_1.data[ib][1,0,:,j_val,:],turned_1.data[ib][2,nit,:,j_val,:]\n",
    "                         ,levels=[u_t_max[ib][j_val]*0.9/0.99],colors=['k'])                \n",
    "            ax3.set_xlabel('$z$')\n",
    "            plt.savefig('../video_planes/plane_time_laps_u_t_ib%i_j%i_time%i.png'%(ib,j_val,steps[nit]))"
   ]
  },
  {
   "cell_type": "code",
   "execution_count": null,
   "metadata": {
    "collapsed": true
   },
   "outputs": [],
   "source": []
  },
  {
   "cell_type": "code",
   "execution_count": null,
   "metadata": {
    "collapsed": true
   },
   "outputs": [],
   "source": []
  },
  {
   "cell_type": "code",
   "execution_count": null,
   "metadata": {
    "collapsed": true
   },
   "outputs": [],
   "source": []
  }
 ],
 "metadata": {
  "kernelspec": {
   "display_name": "Python 2",
   "language": "python",
   "name": "python2"
  },
  "language_info": {
   "codemirror_mode": {
    "name": "ipython",
    "version": 2
   },
   "file_extension": ".py",
   "mimetype": "text/x-python",
   "name": "python",
   "nbconvert_exporter": "python",
   "pygments_lexer": "ipython2",
   "version": "2.7.12"
  }
 },
 "nbformat": 4,
 "nbformat_minor": 2
}
