{
 "cells": [
  {
   "cell_type": "code",
   "execution_count": 1,
   "metadata": {
    "collapsed": true
   },
   "outputs": [],
   "source": [
    "import lines"
   ]
  },
  {
   "cell_type": "code",
   "execution_count": 2,
   "metadata": {
    "collapsed": true
   },
   "outputs": [],
   "source": [
    "fn='/home/rp3e11/drive2/HPT/inlet_turb_study/HPT_LS05_DOM30_TI5/convergence/5215101_to_5485101/STAT_cont.bin'\n",
    "ifn='/home/rp3e11/drive2/HPT/inlet_turb_study/HPT_LS05_DOM30_TI5/cascade3d.in'"
   ]
  },
  {
   "cell_type": "code",
   "execution_count": 3,
   "metadata": {
    "collapsed": false
   },
   "outputs": [
    {
     "name": "stdout",
     "output_type": "stream",
     "text": [
      "reading inlet and outlet\n",
      "reading data from file previously extracted\n",
      "reading data from file previously extracted\n",
      "198\n",
      "reading blade\n",
      "extract line from (i,j) 224 1  to  224 672  in block  4 672\n",
      "reading data from file previously extracted\n",
      "3 i= 224\n",
      "extract line from (i,j) 224 1  to  224 224  in block  3 224\n",
      "reading data from file previously extracted\n",
      "5 i= 224\n",
      "extract line from (i,j) 224 1  to  224 672  in block  5 672\n",
      "reading data from file previously extracted\n",
      "7 i= 224\n",
      "extract line from (i,j) 224 1  to  224 384  in block  7 384\n",
      "reading data from file previously extracted\n",
      "finished reading blade\n"
     ]
    },
    {
     "name": "stderr",
     "output_type": "stream",
     "text": [
      "/home/rp3e11/codes/PLATUS_GIT/platus/lines.py:1383: FutureWarning: comparison to `None` will result in an elementwise object comparison in the future.\n",
      "  if self.tang!=None:\n",
      "/home/rp3e11/codes/PLATUS_GIT/platus/lines.py:1386: FutureWarning: comparison to `None` will result in an elementwise object comparison in the future.\n",
      "  if self.plus_coords!=None:\n",
      "/home/rp3e11/codes/PLATUS_GIT/platus/lines.py:1388: FutureWarning: comparison to `None` will result in an elementwise object comparison in the future.\n",
      "  if self.cf!=None:\n",
      "/home/rp3e11/codes/PLATUS_GIT/platus/lines.py:1390: FutureWarning: comparison to `None` will result in an elementwise object comparison in the future.\n",
      "  if self.dist!=None:\n"
     ]
    }
   ],
   "source": [
    "inlet_x=-0.5\n",
    "outlet_x=1.2\n",
    "LS5_TI5_cascade=lines.cascade_mean(inlet_x,outlet_x,filename=fn,infile=ifn,Refplane='Outlet',chord=1.74\n",
    "                                  ,HeatTransfer=False)"
   ]
  },
  {
   "cell_type": "code",
   "execution_count": null,
   "metadata": {
    "collapsed": true
   },
   "outputs": [],
   "source": []
  }
 ],
 "metadata": {
  "kernelspec": {
   "display_name": "Python 2",
   "language": "python",
   "name": "python2"
  },
  "language_info": {
   "codemirror_mode": {
    "name": "ipython",
    "version": 2
   },
   "file_extension": ".py",
   "mimetype": "text/x-python",
   "name": "python",
   "nbconvert_exporter": "python",
   "pygments_lexer": "ipython2",
   "version": "2.7.12"
  }
 },
 "nbformat": 4,
 "nbformat_minor": 1
}
