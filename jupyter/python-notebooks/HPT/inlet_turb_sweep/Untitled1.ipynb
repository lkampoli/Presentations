{
 "cells": [
  {
   "cell_type": "code",
   "execution_count": 1,
   "metadata": {
    "collapsed": true
   },
   "outputs": [],
   "source": [
    "import lines"
   ]
  },
  {
   "cell_type": "code",
   "execution_count": 2,
   "metadata": {
    "collapsed": true
   },
   "outputs": [],
   "source": [
    "fn='/home/rp3e11/drive2/HPT/inlet_turb_study/HPT_LS05_DOM30_TI5/convergence/5215101_to_5485101/STAT_cont.bin'\n",
    "ifn='/home/rp3e11/drive2/HPT/inlet_turb_study/HPT_LS05_DOM30_TI5/cascade3d.in'"
   ]
  },
  {
   "cell_type": "code",
   "execution_count": 3,
   "metadata": {
    "collapsed": false
   },
   "outputs": [
    {
     "name": "stdout",
     "output_type": "stream",
     "text": [
      "reading inlet and outlet\n",
      "reading data from file previously extracted\n",
      "reading data from file previously extracted\n",
      "198\n",
      "reading blade\n",
      "extract line from (i,j) 224 1  to  224 672  in block  4 672\n",
      "reading data from file previously extracted\n",
      "3 i= 224\n",
      "extract line from (i,j) 224 1  to  224 224  in block  3 224\n",
      "reading data from file previously extracted\n",
      "5 i= 224\n",
      "extract line from (i,j) 224 1  to  224 672  in block  5 672\n",
      "reading data from file previously extracted\n",
      "7 i= 224\n",
      "extract line from (i,j) 224 1  to  224 384  in block  7 384\n",
      "reading data from file previously extracted\n",
      "finished reading blade\n",
      "len=1.57321798801\n",
      "len=1.57321795821\n",
      "extract line from (i,j) 1 1  to  1 672  in block  4 672\n",
      "reading data from file previously extracted\n",
      "extract line from (i,j) 223 1  to  223 672  in block  4 672\n",
      "reading data from file previously extracted\n",
      "extract line from (i,j) 222 1  to  222 672  in block  4 672\n",
      "reading data from file previously extracted\n"
     ]
    },
    {
     "name": "stderr",
     "output_type": "stream",
     "text": [
      "/home/rp3e11/codes/PLATUS_GIT/platus/lines.py:1383: FutureWarning: comparison to `None` will result in an elementwise object comparison in the future.\n",
      "  if self.tang!=None:\n",
      "/home/rp3e11/codes/PLATUS_GIT/platus/lines.py:1386: FutureWarning: comparison to `None` will result in an elementwise object comparison in the future.\n",
      "  if self.plus_coords!=None:\n",
      "/home/rp3e11/codes/PLATUS_GIT/platus/lines.py:1388: FutureWarning: comparison to `None` will result in an elementwise object comparison in the future.\n",
      "  if self.cf!=None:\n",
      "/home/rp3e11/codes/PLATUS_GIT/platus/lines.py:1390: FutureWarning: comparison to `None` will result in an elementwise object comparison in the future.\n",
      "  if self.dist!=None:\n",
      "/home/rp3e11/codes/PLATUS_GIT/platus/lines.py:2701: FutureWarning: comparison to `None` will result in an elementwise object comparison in the future.\n",
      "  if self.blade.dist!=None:\n",
      "/home/rp3e11/codes/PLATUS_GIT/platus/lines.py:1523: FutureWarning: comparison to `None` will result in an elementwise object comparison in the future.\n",
      "  if self.len_el==None:\n"
     ]
    },
    {
     "name": "stdout",
     "output_type": "stream",
     "text": [
      "extract line from (i,j) 224 1  to  224 672  in block  4 672\n",
      "reading data from file previously extracted\n",
      "extract line from (i,j) 1 1  to  1 224  in block  3 224\n",
      "reading data from file previously extracted\n",
      "extract line from (i,j) 223 1  to  223 224  in block  3 224\n",
      "reading data from file previously extracted\n",
      "extract line from (i,j) 222 1  to  222 224  in block  3 224\n",
      "reading data from file previously extracted\n",
      "extract line from (i,j) 224 1  to  224 224  in block  3 224\n",
      "reading data from file previously extracted\n",
      "extract line from (i,j) 1 1  to  1 672  in block  5 672\n",
      "reading data from file previously extracted\n",
      "extract line from (i,j) 223 1  to  223 672  in block  5 672\n",
      "reading data from file previously extracted\n",
      "extract line from (i,j) 222 1  to  222 672  in block  5 672\n",
      "reading data from file previously extracted\n",
      "extract line from (i,j) 224 1  to  224 672  in block  5 672\n",
      "reading data from file previously extracted\n",
      "extract line from (i,j) 1 1  to  1 384  in block  7 384\n",
      "reading data from file previously extracted\n",
      "extract line from (i,j) 223 1  to  223 384  in block  7 384\n",
      "reading data from file previously extracted\n",
      "extract line from (i,j) 222 1  to  222 384  in block  7 384\n",
      "reading data from file previously extracted\n",
      "extract line from (i,j) 224 1  to  224 384  in block  7 384\n",
      "reading data from file previously extracted\n"
     ]
    }
   ],
   "source": [
    "inlet_x=-0.5\n",
    "outlet_x=1.2\n",
    "LS5_TI5_cascade=lines.cascade_mean(inlet_x,outlet_x,filename=fn,infile=ifn,Refplane='Outlet',chord=1.74\n",
    "                                  ,HeatTransfer=True)"
   ]
  },
  {
   "cell_type": "code",
   "execution_count": 4,
   "metadata": {
    "collapsed": true
   },
   "outputs": [],
   "source": [
    "LS5_TI5_cascade.extr_bl_quantities(nps_stream=100,nps_wall_norm=200,extent=0.05,f_ss_start=0.05,f_ss_end=0.96\n",
    "                           ,f_ps_start=0.02,f_ps_end=0.98)"
   ]
  }
 ],
 "metadata": {
  "kernelspec": {
   "display_name": "Python 2",
   "language": "python",
   "name": "python2"
  },
  "language_info": {
   "codemirror_mode": {
    "name": "ipython",
    "version": 2
   },
   "file_extension": ".py",
   "mimetype": "text/x-python",
   "name": "python",
   "nbconvert_exporter": "python",
   "pygments_lexer": "ipython2",
   "version": "2.7.12"
  }
 },
 "nbformat": 4,
 "nbformat_minor": 1
}
