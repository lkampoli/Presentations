{
 "cells": [
  {
   "cell_type": "markdown",
   "metadata": {},
   "source": [
    "# Statistical Convergence Verification Case"
   ]
  },
  {
   "cell_type": "markdown",
   "metadata": {},
   "source": [
    "## Convergence case for ..."
   ]
  },
  {
   "cell_type": "markdown",
   "metadata": {},
   "source": [
    "This notebook runs a user set number of convergence cases and plots varisous flow properties to compare and verifiy the statistical convergence of the simulations."
   ]
  },
  {
   "cell_type": "code",
   "execution_count": 1,
   "metadata": {
    "collapsed": false
   },
   "outputs": [],
   "source": [
    "%matplotlib inline"
   ]
  },
  {
   "cell_type": "code",
   "execution_count": 2,
   "metadata": {
    "collapsed": false
   },
   "outputs": [],
   "source": [
    "%config InlineBackend.figure_format = 'svg'"
   ]
  },
  {
   "cell_type": "code",
   "execution_count": 3,
   "metadata": {
    "collapsed": false
   },
   "outputs": [],
   "source": [
    "#First things first change to your working directory containing your HiPSTAR case\n",
    "import os\n",
    "os.chdir('/home/rp3e11/drive1/thesis_cases/HPT_andy_post/finegrid/convergence/')\n",
    "casedir=os.getcwd()"
   ]
  },
  {
   "cell_type": "code",
   "execution_count": 4,
   "metadata": {
    "collapsed": false
   },
   "outputs": [],
   "source": [
    "name_for_files='fine_grid'"
   ]
  },
  {
   "cell_type": "code",
   "execution_count": 5,
   "metadata": {
    "collapsed": false
   },
   "outputs": [],
   "source": [
    "#Set up environemnt\n",
    "import sys\n",
    "#Append PLATUS libraries if these are not set in your PYTHONPATH \n",
    "#sys.path.append('/home/jl12e12/PLATUS/')\n",
    "#sys.path.append('/home/jl12e12/PLATUS/fortran/lib/')\n",
    "import lib_hipstar as lh\n",
    "import tools\n",
    "import lines as l\n",
    "import numpy as np\n",
    "import matplotlib.pyplot as plt\n",
    "from matplotlib2tikz import save as tikz_save\n",
    "tikz=True\n",
    "pdf=True"
   ]
  },
  {
   "cell_type": "code",
   "execution_count": 6,
   "metadata": {
    "collapsed": false
   },
   "outputs": [
    {
     "ename": "OSError",
     "evalue": "[Errno 2] No such file or directory: '../mon_point/'",
     "output_type": "error",
     "traceback": [
      "\u001b[1;31m---------------------------------------------------------------------------\u001b[0m",
      "\u001b[1;31mOSError\u001b[0m                                   Traceback (most recent call last)",
      "\u001b[1;32m<ipython-input-6-81078a33c260>\u001b[0m in \u001b[0;36m<module>\u001b[1;34m()\u001b[0m\n\u001b[0;32m      8\u001b[0m \u001b[1;33m\u001b[0m\u001b[0m\n\u001b[0;32m      9\u001b[0m \u001b[0mstart_name\u001b[0m\u001b[1;33m=\u001b[0m\u001b[1;34m'monitor_point_%i'\u001b[0m\u001b[1;33m%\u001b[0m\u001b[0mmon_point_id\u001b[0m\u001b[1;33m\u001b[0m\u001b[0m\n\u001b[1;32m---> 10\u001b[1;33m \u001b[0mfiles\u001b[0m\u001b[1;33m=\u001b[0m \u001b[0mos\u001b[0m\u001b[1;33m.\u001b[0m\u001b[0mlistdir\u001b[0m\u001b[1;33m(\u001b[0m\u001b[1;34m'../mon_point/'\u001b[0m\u001b[1;33m)\u001b[0m\u001b[1;33m\u001b[0m\u001b[0m\n\u001b[0m\u001b[0;32m     11\u001b[0m \u001b[0mred_files\u001b[0m\u001b[1;33m=\u001b[0m\u001b[1;33m[\u001b[0m\u001b[1;33m]\u001b[0m\u001b[1;33m\u001b[0m\u001b[0m\n\u001b[0;32m     12\u001b[0m \u001b[1;32mfor\u001b[0m \u001b[0mf\u001b[0m \u001b[1;32min\u001b[0m \u001b[0mfiles\u001b[0m\u001b[1;33m:\u001b[0m\u001b[1;33m\u001b[0m\u001b[0m\n",
      "\u001b[1;31mOSError\u001b[0m: [Errno 2] No such file or directory: '../mon_point/'"
     ]
    }
   ],
   "source": [
    "mon_point_id=2\n",
    "var_index=7\n",
    "skip=10\n",
    "save_fig=False\n",
    "#======================================\n",
    "#  end user input\n",
    "#======================================\n",
    "\n",
    "start_name='monitor_point_%i'%mon_point_id\n",
    "files= os.listdir('../mon_point/')\n",
    "red_files=[]\n",
    "for f in files:\n",
    "    if f.startswith(start_name):\n",
    "        temp='../mon_point/'+f\n",
    "        red_files.append(temp)\n",
    "\n",
    "red_files.sort()\n",
    "time=[]\n",
    "step=[]\n",
    "var=[]\n",
    "for f in red_files:\n",
    "    file1=open(f,'r')\n",
    "    count=1\n",
    "    for line in file1:\n",
    "        if count==0:\n",
    "            li=line.split()\n",
    "            step.append(float(li[0]))\n",
    "            time.append(float(li[1]))\n",
    "            var.append(float(li[var_index]))\n",
    "            count=10\n",
    "        else:\n",
    "            count-=count\n",
    "plt.figure()\n",
    "plt.plot(step,var)\n",
    "plt.xlabel('timestep')\n",
    "plt.ylabel('var')\n",
    "if save_fig:\n",
    "    plt.savefig('time_hist_var.pdf')\n",
    "     "
   ]
  },
  {
   "cell_type": "code",
   "execution_count": null,
   "metadata": {
    "collapsed": false
   },
   "outputs": [],
   "source": [
    "#get list of directories to loop though\n",
    "postdir =  os.walk('.').next()[1]\n",
    "postdir = [casedir+'/'+i for i in postdir]"
   ]
  },
  {
   "cell_type": "markdown",
   "metadata": {},
   "source": [
    "# Wake plots"
   ]
  },
  {
   "cell_type": "markdown",
   "metadata": {},
   "source": [
    "Plot wake values of each statistics run and compare "
   ]
  },
  {
   "cell_type": "code",
   "execution_count": null,
   "metadata": {
    "collapsed": false
   },
   "outputs": [],
   "source": [
    "#USER INPUT\n",
    "#Change if you want a different down stream plane\n",
    "# Specify the down stream wake plane you want with [[x,y][x,y]] \n",
    "# add other planes by adding the same format\n",
    "wp=[[[-.3,-0.2],[-.3,0.7]],[[0.9,-.75],[0.9,0.4]],[[1.1,-.75],[1.1,0.4]],[[1.26,-.75],[1.26,0.4]]]"
   ]
  },
  {
   "cell_type": "code",
   "execution_count": null,
   "metadata": {
    "collapsed": false
   },
   "outputs": [],
   "source": []
  },
  {
   "cell_type": "code",
   "execution_count": null,
   "metadata": {
    "collapsed": false
   },
   "outputs": [],
   "source": [
    "#Extract lines from each convergence case\n",
    "inf=lh.infile('../cascade.in')\n",
    "dt=inf.dth\n",
    "wake=[]\n",
    "for j in wp:\n",
    "    wake.append(l.lines())\n",
    "\n",
    "    for i in postdir:\n",
    "        d=i.split('/')\n",
    "        d=d[-1].split('_')\n",
    "        d1=float(d[0])*dt\n",
    "        d2=float(d[2])*dt\n",
    "        d=\"%4.1f to %4.1f\"%(d1,d2)\n",
    "        wake[-1].extr_line(j[0],j[1],200,i+'/ASME_post.bin',force_read=True,label=d)\n",
    "        wake[-1].order_ymin()\n"
   ]
  },
  {
   "cell_type": "code",
   "execution_count": null,
   "metadata": {
    "collapsed": false
   },
   "outputs": [],
   "source": [
    "plot_ids=[]\n",
    "plot_ids.append(wake[0].l[0].var.get_index(216,21))\n",
    "\n",
    "\n",
    "\n",
    "\n",
    "for j in range(4):\n",
    "    print 'Wake profiles for x position: ',wp[j][0][0] \n",
    "    wake[j].plot_var(plot_ids,1,fig_num=j)\n",
    "    plt.figure(j)\n",
    "    if tikz:\n",
    "        tikz_save(\"stat_conv_TI_%s_%i.tikz\"%(name_for_files,j),\n",
    "                  figureheight = '\\\\fh',\n",
    "                  figurewidth = '\\\\fw')\n",
    "    if pdf:\n",
    "        plt.savefig(\"stat_conv_TI_%s_%i.pdf\"%(name_for_files,j))"
   ]
  },
  {
   "cell_type": "code",
   "execution_count": null,
   "metadata": {
    "collapsed": false
   },
   "outputs": [],
   "source": [
    "plot_ids=[]\n",
    "plot_ids.append(wake[0].l[0].var.get_index(216,2))\n",
    "plot_ids.append(wake[0].l[0].var.get_index(216,3))\n",
    "plot_ids.append(wake[0].l[0].var.get_index(216,16))\n",
    "\n",
    "\n",
    "\n",
    "for j in range(4):\n",
    "    print 'Wake profiles for x position: ',wp[j][0][0] \n",
    "    wake[j].plot_var(plot_ids,1,fig_num=j)\n",
    "    plt.figure(j)\n",
    "    if tikz:\n",
    "        tikz_save(\"stat_conv_mean_%s_%i.tikz\"%(name_for_files,j),\n",
    "                  figureheight = '\\\\fh',\n",
    "                  figurewidth = '\\\\fw')\n",
    "    if pdf:\n",
    "        plt.savefig(\"stat_conv_mean_%s_%i.pdf\"%(name_for_files,j))"
   ]
  },
  {
   "cell_type": "code",
   "execution_count": null,
   "metadata": {
    "collapsed": false
   },
   "outputs": [],
   "source": [
    "plot_ids=[]\n",
    "plot_ids.append(wake[0].l[0].var.get_index(216,1))\n",
    "plot_ids.append(wake[0].l[0].var.get_index(216,4))\n",
    "plot_ids.append(wake[0].l[0].var.get_index(216,5))\n",
    "\n",
    "\n",
    "\n",
    "for j in range(4):\n",
    "    print 'Wake profiles for x position: ',wp[j][0][0] \n",
    "    wake[j].plot_var(plot_ids,1,fig_num=j)\n",
    "    plt.figure(j)\n",
    "    if tikz:\n",
    "        tikz_save(\"stat_conv_therm_%s_%i.tikz\"%(name_for_files,j),\n",
    "                  figureheight = '\\\\fh',\n",
    "                  figurewidth = '\\\\fw')\n",
    "    if pdf:\n",
    "        plt.savefig(\"stat_conv_therm_%s_%i.pdf\"%(name_for_files,j))"
   ]
  },
  {
   "cell_type": "code",
   "execution_count": null,
   "metadata": {
    "collapsed": false
   },
   "outputs": [],
   "source": [
    "plot_ids=[]\n",
    "plot_ids.append(wake[0].l[0].var.get_index(216,10))\n",
    "plot_ids.append(wake[0].l[0].var.get_index(216,11))\n",
    "plot_ids.append(wake[0].l[0].var.get_index(216,12))\n",
    "plot_ids.append(wake[0].l[0].var.get_index(216,13))\n",
    "\n",
    "\n",
    "for j in range(4):\n",
    "    print 'Wake profiles for x position: ',wp[j][0][0] \n",
    "    wake[j].plot_var(plot_ids,1,fig_num=j)\n",
    "    plt.figure(j)\n",
    "    if tikz:\n",
    "        tikz_save(\"stat_conv_tau_%s_%i.tikz\"%(name_for_files,j),\n",
    "                  figureheight = '\\\\fh',\n",
    "                  figurewidth = '\\\\fw')\n",
    "    if pdf:\n",
    "        plt.savefig(\"stat_conv_tau_%s_%i.pdf\"%(name_for_files,j))  "
   ]
  },
  {
   "cell_type": "code",
   "execution_count": null,
   "metadata": {
    "collapsed": false
   },
   "outputs": [],
   "source": [
    "plot_ids=[]\n",
    "plot_ids.append(wake[0].l[0].var.get_index(209,8))\n",
    "plot_ids.append(wake[0].l[0].var.get_index(209,5))\n",
    "plot_ids.append(wake[0].l[0].var.get_index(209,9))\n",
    "\n",
    "\n",
    "\n",
    "for j in range(4):\n",
    "    print 'Wake profiles for x position: ',wp[j][0][0] \n",
    "    wake[j].plot_var(plot_ids,1,fig_num=j)\n",
    "    plt.figure(j)\n",
    "    if tikz:\n",
    "        tikz_save(\"stat_conv_tke_%s_%i.tikz\"%(name_for_files,j),\n",
    "                  figureheight = '\\\\fh',\n",
    "                  figurewidth = '\\\\fw')\n",
    "    if pdf:\n",
    "        plt.savefig(\"stat_conv_tke_%s_%i.pdf\"%(name_for_files,j))"
   ]
  },
  {
   "cell_type": "code",
   "execution_count": null,
   "metadata": {
    "collapsed": false
   },
   "outputs": [],
   "source": []
  },
  {
   "cell_type": "code",
   "execution_count": null,
   "metadata": {
    "collapsed": false
   },
   "outputs": [],
   "source": [
    "ls"
   ]
  },
  {
   "cell_type": "markdown",
   "metadata": {},
   "source": [
    "## Selected case"
   ]
  },
  {
   "cell_type": "code",
   "execution_count": null,
   "metadata": {
    "collapsed": false
   },
   "outputs": [],
   "source": [
    "case_index=0\n",
    "filen='../convergence_new/'+postdir[case_index].split('/')[-1]+'/STAT_cont.bin'\n",
    "print filen"
   ]
  },
  {
   "cell_type": "code",
   "execution_count": null,
   "metadata": {
    "collapsed": false
   },
   "outputs": [],
   "source": [
    "cascade=l.cascade_mean(-0.3,1.26,filename=filen,infile='../cascade.in',Refplane='Outlet')"
   ]
  },
  {
   "cell_type": "code",
   "execution_count": null,
   "metadata": {
    "collapsed": false
   },
   "outputs": [],
   "source": [
    "plt.figure()\n",
    "plt.plot(cascade.blade.data[:,0],cascade.cp)\n",
    "plt.grid()\n",
    "plt.xlabel('$x$')\n",
    "plt.ylabel('$c_p= \\\\frac{p(x)-p_{out}}{p_{t,in}-p_{out}}$')\n",
    "tikz_save(\"cp_blade.tikz\",\n",
    "              figureheight = '\\\\fh',\n",
    "              figurewidth = '\\\\fw')  "
   ]
  },
  {
   "cell_type": "code",
   "execution_count": null,
   "metadata": {
    "collapsed": false
   },
   "outputs": [],
   "source": [
    "plt.figure()\n",
    "plt.plot(cascade.loss_mix,cascade.outlet.data[:,1])\n",
    "plt.grid()\n",
    "plt.ylabel('$x$')\n",
    "plt.xlabel('$\\omega= \\\\frac{p_{t,in}-p_{t,out}(y)}{p_{t,in}-p_{out}}$')\n",
    "tikz_save(\"wake_loss.tikz\",\n",
    "              figureheight = '\\\\fh',\n",
    "              figurewidth = '\\\\fw')  "
   ]
  },
  {
   "cell_type": "code",
   "execution_count": null,
   "metadata": {
    "collapsed": false
   },
   "outputs": [],
   "source": [
    "cascade.report_integral_mixed_out()"
   ]
  },
  {
   "cell_type": "code",
   "execution_count": null,
   "metadata": {
    "collapsed": false
   },
   "outputs": [],
   "source": []
  },
  {
   "cell_type": "markdown",
   "metadata": {},
   "source": [
    "# Monitor point trends"
   ]
  },
  {
   "cell_type": "markdown",
   "metadata": {},
   "source": [
    "Analyze monitor points for one upstream and down stream position to check for trends"
   ]
  },
  {
   "cell_type": "code",
   "execution_count": null,
   "metadata": {
    "collapsed": false
   },
   "outputs": [],
   "source": [
    "import mon_points as mp"
   ]
  },
  {
   "cell_type": "code",
   "execution_count": null,
   "metadata": {
    "collapsed": false
   },
   "outputs": [],
   "source": []
  },
  {
   "cell_type": "code",
   "execution_count": null,
   "metadata": {
    "collapsed": false
   },
   "outputs": [],
   "source": []
  },
  {
   "cell_type": "code",
   "execution_count": null,
   "metadata": {
    "collapsed": false
   },
   "outputs": [],
   "source": []
  },
  {
   "cell_type": "markdown",
   "metadata": {
    "collapsed": false
   },
   "source": [
    "## Write out data to compare cases"
   ]
  },
  {
   "cell_type": "code",
   "execution_count": null,
   "metadata": {
    "collapsed": false
   },
   "outputs": [],
   "source": [
    "case_index=0\n",
    "print postdir[case_index]\n",
    "stat_file=postdir[case_index]+'/ASME_post.bin'"
   ]
  },
  {
   "cell_type": "code",
   "execution_count": null,
   "metadata": {
    "collapsed": false
   },
   "outputs": [],
   "source": [
    "rho_ind=wake[1].l[case_index].var.get_index(216,1)\n",
    "u_ind=wake[1].l[case_index].var.get_index(216,2)\n",
    "v_ind=wake[1].l[case_index].var.get_index(216,3)\n",
    "p_ind=wake[1].l[case_index].var.get_index(216,5)\n",
    "T_ind=wake[1].l[case_index].var.get_index(216,4)\n",
    "tau11_ind=wake[1].l[case_index].var.get_index(216,10)\n",
    "tau22_ind=wake[1].l[case_index].var.get_index(216,12)\n",
    "tau33_ind=wake[1].l[case_index].var.get_index(216,13)\n",
    "tau12_ind=wake[1].l[case_index].var.get_index(216,11)\n",
    "tau33_ind=wake[1].l[case_index].var.get_index(216,13)\n",
    "P_ind=wake[1].l[case_index].var.get_index(209,8)\n",
    "eps_ind=wake[1].l[case_index].var.get_index(209,9)\n",
    "k_ind=wake[1].l[case_index].var.get_index(207,1)\n",
    "Ti_ind=wake[1].l[case_index].var.get_index(216,21)"
   ]
  },
  {
   "cell_type": "code",
   "execution_count": null,
   "metadata": {
    "collapsed": false
   },
   "outputs": [],
   "source": [
    "for i in range(3):\n",
    "    dataset=wake[i+1].l[case_index]\n",
    "    outlet_comp_file='outlet_comp_%s_%i.dat'%(name_for_files,i+1)\n",
    "    of=open(outlet_comp_file,'w')\n",
    "    of.write('%25s %25s %25s %25s %25s %25s %25s %25s %25s %25s %25s %25s %25s\\n'%('y','rho_bar','u_tile','v_tile','p_bar','T_tile','tau_11,','tau_22','tau_33','tau_12,','k','P','epsilon'))\n",
    "    of.write('x=%15.8f, npoints = %i\\n'%(dataset.data[0,0],dataset.npoints))    \n",
    "    for j in range(dataset.npoints):\n",
    "            of.write('%25.12f %25.12f %25.12f %25.12f %25.12f %25.12f %25.12f %25.12f %25.12f %25.12f %25.12f %25.12f %25.12f\\n'%(dataset.data[j,1],dataset.data[j,rho_ind],dataset.data[j,u_ind],dataset.data[j,v_ind],\n",
    "                                   dataset.data[j,p_ind],dataset.data[j,T_ind],-dataset.data[j,tau11_ind],-dataset.data[j,tau22_ind],\n",
    "                                   -dataset.data[j,tau33_ind],-dataset.data[j,tau12_ind],dataset.data[j,k_ind],-dataset.data[j,P_ind],dataset.data[j,eps_ind]))          \n",
    "    of.close()"
   ]
  },
  {
   "cell_type": "code",
   "execution_count": null,
   "metadata": {
    "collapsed": true
   },
   "outputs": [],
   "source": []
  },
  {
   "cell_type": "code",
   "execution_count": null,
   "metadata": {
    "collapsed": true
   },
   "outputs": [],
   "source": []
  },
  {
   "cell_type": "code",
   "execution_count": null,
   "metadata": {
    "collapsed": true
   },
   "outputs": [],
   "source": []
  },
  {
   "cell_type": "code",
   "execution_count": null,
   "metadata": {
    "collapsed": true
   },
   "outputs": [],
   "source": []
  },
  {
   "cell_type": "code",
   "execution_count": null,
   "metadata": {
    "collapsed": true
   },
   "outputs": [],
   "source": []
  }
 ],
 "metadata": {
  "kernelspec": {
   "display_name": "Python 2",
   "language": "python",
   "name": "python2"
  },
  "language_info": {
   "codemirror_mode": {
    "name": "ipython",
    "version": 2
   },
   "file_extension": ".py",
   "mimetype": "text/x-python",
   "name": "python",
   "nbconvert_exporter": "python",
   "pygments_lexer": "ipython2",
   "version": "2.7.6"
  }
 },
 "nbformat": 4,
 "nbformat_minor": 0
}
