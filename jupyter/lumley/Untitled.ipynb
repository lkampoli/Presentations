{
 "cells": [
  {
   "cell_type": "code",
   "execution_count": 3,
   "metadata": {
    "collapsed": true
   },
   "outputs": [],
   "source": [
    "import numpy as np \n",
    "import struct as st\n",
    "\n",
    "def read_2ddata_p3d(filename):\n",
    "\n",
    "    f = open(filename,'rb')\n",
    "    nb = st.unpack('i',f.read(4))\n",
    "    (nx,ny,nvar) = st.unpack('3i',f.read(3*4))\n",
    "    print(\"Dimensions and vars: \")\n",
    "    print(nx,ny,nvar)  \n",
    "    npt = nx*ny*nvar\n",
    "    data = st.unpack('%df' %(npt),f.read(npt*4)) # or *8???\n",
    "    data = np.reshape(data,(nx,ny,nvar),order='F')\n",
    "    return(data)\n",
    "\n",
    "\n",
    "def read_2dmesh_p3d(filename):\n",
    "\n",
    "    f = open(filename,'rb')\n",
    "    nb = st.unpack('i',f.read(4))\n",
    "    (nx,ny) = st.unpack('2i',f.read(2*4))\n",
    "    print(\"Dimensions: \")\n",
    "    print(nb,nx,ny)  \n",
    "    npt = nx*ny*2\n",
    "    grid = st.unpack('%df' %(npt),f.read(npt*4)) # or *8???\n",
    "    grid = np.reshape(grid,(nx,ny,2),order='F')\n",
    "\n",
    "    return(grid)\n",
    "\n",
    "def read_2dq_p3d(q_name):\n",
    "    \"\"\"\n",
    "    \"\"\"\n",
    "\n",
    "    with open(q_name,'rb') as f:\n",
    "\tnb = st.unpack('i',f.read(4))\n",
    "        (nx,ny) = st.unpack('2i',f.read(2*4))\n",
    "        (mach,alpha,rey,time) = st.unpack('4f',f.read(4*4))\n",
    "\tprint(\"Dimensions and parameters: \")\n",
    "        print(nx,ny)\n",
    "        print(mach,alpha,rey,time)\n",
    "        nvar = 4   # 4 vars for 2d plot3d\n",
    "        npt = nx*ny*nvar\n",
    "        data = st.unpack('%df' %(npt),f.read(npt*4))\n",
    "        data = np.reshape(data,(nx,ny,nvar),order='F')\n",
    "        return(data)"
   ]
  },
  {
   "cell_type": "code",
   "execution_count": 4,
   "metadata": {},
   "outputs": [
    {
     "name": "stdout",
     "output_type": "stream",
     "text": [
      "Dimensions: \n",
      "((4,), 2, 4)\n"
     ]
    }
   ],
   "source": [
    "grid = read_2dmesh_p3d(\"TRAF-data/inloop/xy.xyz\")"
   ]
  },
  {
   "cell_type": "code",
   "execution_count": null,
   "metadata": {
    "collapsed": true
   },
   "outputs": [],
   "source": []
  }
 ],
 "metadata": {
  "kernelspec": {
   "display_name": "Python 2",
   "language": "python",
   "name": "python2"
  },
  "language_info": {
   "codemirror_mode": {
    "name": "ipython",
    "version": 2
   },
   "file_extension": ".py",
   "mimetype": "text/x-python",
   "name": "python",
   "nbconvert_exporter": "python",
   "pygments_lexer": "ipython2",
   "version": "2.7.13"
  }
 },
 "nbformat": 4,
 "nbformat_minor": 2
}
